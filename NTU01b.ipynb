{
  "nbformat": 4,
  "nbformat_minor": 0,
  "metadata": {
    "colab": {
      "provenance": [],
      "gpuType": "T4"
    },
    "kernelspec": {
      "name": "python3",
      "display_name": "Python 3"
    },
    "language_info": {
      "name": "python"
    },
    "accelerator": "GPU"
  },
  "cells": [
    {
      "cell_type": "code",
      "source": [
        "from tensorflow.keras.preprocessing.image import ImageDataGenerator\n",
        "from tensorflow.keras.models import Model\n",
        "from tensorflow.keras.layers import Dense, Flatten\n",
        "from tensorflow.keras.applications import InceptionV3\n",
        "from tensorflow.keras.callbacks import ModelCheckpoint, EarlyStopping, ReduceLROnPlateau\n",
        "from tensorflow.keras.optimizers import Adam"
      ],
      "metadata": {
        "id": "Qh4MockjZXAx"
      },
      "execution_count": null,
      "outputs": []
    },
    {
      "cell_type": "code",
      "source": [
        "from google.colab import drive\n",
        "drive.mount(\"/content/drive\")"
      ],
      "metadata": {
        "colab": {
          "base_uri": "https://localhost:8080/"
        },
        "id": "XxFJmnhmZvNp",
        "outputId": "21782b51-7bce-4115-c1e5-aa4b2d1c5bc6"
      },
      "execution_count": null,
      "outputs": [
        {
          "output_type": "stream",
          "name": "stdout",
          "text": [
            "Mounted at /content/drive\n"
          ]
        }
      ]
    },
    {
      "cell_type": "code",
      "source": [
        "from torchvision import datasets, transforms\n",
        "\n",
        "transform = transforms.Compose([\n",
        "    transforms.Resize((224, 224)),\n",
        "    transforms.ToTensor(),\n",
        "    transforms.Normalize(mean=[0.485, 0.456, 0.406], std=[0.229, 0.224, 0.225])\n",
        "])"
      ],
      "metadata": {
        "id": "LdDB_ew92fO4"
      },
      "execution_count": null,
      "outputs": []
    },
    {
      "cell_type": "code",
      "source": [
        "data_gen = ImageDataGenerator(\n",
        "    rescale=1./255,\n",
        "    shear_range=0.2,\n",
        "    zoom_range=0.2,\n",
        "    horizontal_flip=True,\n",
        "    validation_split=0.2  # Split the data into 80% train and 20% validation\n",
        ")\n",
        "\n",
        "data_dir = '/content/drive/MyDrive/Scanning Electron Microscopy Imaging of Nanoparticles/stutcure'\n",
        "\n",
        "train_generator = data_gen.flow_from_directory(\n",
        "    directory=data_dir,\n",
        "    target_size=(224, 224),\n",
        "    batch_size=32,\n",
        "    class_mode='categorical',\n",
        "    subset='training'  # This tells it to use the training split\n",
        ")\n",
        "\n",
        "validation_generator = data_gen.flow_from_directory(\n",
        "    directory=data_dir,\n",
        "    target_size=(224, 224),\n",
        "    batch_size=32,\n",
        "    class_mode='categorical',\n",
        "    subset='validation'  # This tells it to use the validation split\n",
        ")"
      ],
      "metadata": {
        "id": "GcOmrH6caC0x",
        "colab": {
          "base_uri": "https://localhost:8080/"
        },
        "outputId": "1d890c3a-2b26-4005-9186-c518819924fd"
      },
      "execution_count": null,
      "outputs": [
        {
          "output_type": "stream",
          "name": "stdout",
          "text": [
            "Found 603 images belonging to 6 classes.\n",
            "Found 147 images belonging to 6 classes.\n"
          ]
        }
      ]
    },
    {
      "cell_type": "code",
      "source": [
        "train_generator.i"
      ],
      "metadata": {
        "id": "Ey2aVjO8Rl-f"
      },
      "execution_count": null,
      "outputs": []
    },
    {
      "cell_type": "code",
      "source": [
        "model_incep = InceptionV3(weights=\"imagenet\", input_shape=(224, 224, 3), include_top=False)\n",
        "\n",
        "\n",
        "for layer in model_incep.layers:\n",
        "    layer.trainable = False\n",
        "\n",
        "x = Flatten()(model_incep.output)\n",
        "x = Dense(1024, activation='relu')(x)\n",
        "x = Dense(6, activation='softmax')(x)  # Softmax for categorical classification\n",
        "\n",
        "# Final model\n",
        "model = Model(inputs=model_incep.input, outputs=x)"
      ],
      "metadata": {
        "id": "zemZsg-qA-8b",
        "colab": {
          "base_uri": "https://localhost:8080/"
        },
        "outputId": "5ab31ad4-8dad-4ee9-c78d-3afe9a8cae79"
      },
      "execution_count": null,
      "outputs": [
        {
          "output_type": "stream",
          "name": "stdout",
          "text": [
            "Downloading data from https://storage.googleapis.com/tensorflow/keras-applications/inception_v3/inception_v3_weights_tf_dim_ordering_tf_kernels_notop.h5\n",
            "\u001b[1m87910968/87910968\u001b[0m \u001b[32m━━━━━━━━━━━━━━━━━━━━\u001b[0m\u001b[37m\u001b[0m \u001b[1m0s\u001b[0m 0us/step\n"
          ]
        }
      ]
    },
    {
      "cell_type": "code",
      "source": [
        "model.compile(optimizer=Adam(), loss='categorical_crossentropy', metrics=['accuracy'])\n",
        "\n",
        "model.fit(\n",
        "    train_generator,\n",
        "    epochs=20,\n",
        "    validation_data=validation_generator,\n",
        "    callbacks=[ModelCheckpoint('best_model.keras', save_best_only=True),\n",
        "               EarlyStopping(patience=5, restore_best_weights=True),\n",
        "               ReduceLROnPlateau(patience=3, factor=0.1)]\n",
        ")\n"
      ],
      "metadata": {
        "colab": {
          "base_uri": "https://localhost:8080/"
        },
        "id": "1W-arqQEpyxJ",
        "outputId": "950691a1-081f-4059-a17f-5a900c030c73"
      },
      "execution_count": null,
      "outputs": [
        {
          "output_type": "stream",
          "name": "stdout",
          "text": [
            "Epoch 1/20\n"
          ]
        },
        {
          "output_type": "stream",
          "name": "stderr",
          "text": [
            "/usr/local/lib/python3.10/dist-packages/keras/src/trainers/data_adapters/py_dataset_adapter.py:122: UserWarning: Your `PyDataset` class should call `super().__init__(**kwargs)` in its constructor. `**kwargs` can include `workers`, `use_multiprocessing`, `max_queue_size`. Do not pass these arguments to `fit()`, as they will be ignored.\n",
            "  self._warn_if_super_not_called()\n"
          ]
        },
        {
          "output_type": "stream",
          "name": "stdout",
          "text": [
            "\u001b[1m19/19\u001b[0m \u001b[32m━━━━━━━━━━━━━━━━━━━━\u001b[0m\u001b[37m\u001b[0m \u001b[1m181s\u001b[0m 6s/step - accuracy: 0.3636 - loss: 52.9606 - val_accuracy: 0.4558 - val_loss: 10.8284 - learning_rate: 0.0010\n",
            "Epoch 2/20\n",
            "\u001b[1m19/19\u001b[0m \u001b[32m━━━━━━━━━━━━━━━━━━━━\u001b[0m\u001b[37m\u001b[0m \u001b[1m50s\u001b[0m 922ms/step - accuracy: 0.5039 - loss: 9.1542 - val_accuracy: 0.5374 - val_loss: 5.5978 - learning_rate: 0.0010\n",
            "Epoch 3/20\n",
            "\u001b[1m19/19\u001b[0m \u001b[32m━━━━━━━━━━━━━━━━━━━━\u001b[0m\u001b[37m\u001b[0m \u001b[1m25s\u001b[0m 1s/step - accuracy: 0.6493 - loss: 2.6882 - val_accuracy: 0.5510 - val_loss: 4.1452 - learning_rate: 0.0010\n",
            "Epoch 4/20\n",
            "\u001b[1m19/19\u001b[0m \u001b[32m━━━━━━━━━━━━━━━━━━━━\u001b[0m\u001b[37m\u001b[0m \u001b[1m20s\u001b[0m 900ms/step - accuracy: 0.6149 - loss: 2.1478 - val_accuracy: 0.4966 - val_loss: 4.0270 - learning_rate: 0.0010\n",
            "Epoch 5/20\n",
            "\u001b[1m19/19\u001b[0m \u001b[32m━━━━━━━━━━━━━━━━━━━━\u001b[0m\u001b[37m\u001b[0m \u001b[1m15s\u001b[0m 504ms/step - accuracy: 0.6993 - loss: 1.5534 - val_accuracy: 0.3061 - val_loss: 5.0870 - learning_rate: 0.0010\n",
            "Epoch 6/20\n",
            "\u001b[1m19/19\u001b[0m \u001b[32m━━━━━━━━━━━━━━━━━━━━\u001b[0m\u001b[37m\u001b[0m \u001b[1m15s\u001b[0m 527ms/step - accuracy: 0.6917 - loss: 1.6281 - val_accuracy: 0.4830 - val_loss: 4.2288 - learning_rate: 0.0010\n",
            "Epoch 7/20\n",
            "\u001b[1m19/19\u001b[0m \u001b[32m━━━━━━━━━━━━━━━━━━━━\u001b[0m\u001b[37m\u001b[0m \u001b[1m27s\u001b[0m 955ms/step - accuracy: 0.7502 - loss: 1.1293 - val_accuracy: 0.5102 - val_loss: 3.9607 - learning_rate: 0.0010\n",
            "Epoch 8/20\n",
            "\u001b[1m19/19\u001b[0m \u001b[32m━━━━━━━━━━━━━━━━━━━━\u001b[0m\u001b[37m\u001b[0m \u001b[1m41s\u001b[0m 959ms/step - accuracy: 0.7060 - loss: 1.3564 - val_accuracy: 0.4150 - val_loss: 3.6706 - learning_rate: 0.0010\n",
            "Epoch 9/20\n",
            "\u001b[1m19/19\u001b[0m \u001b[32m━━━━━━━━━━━━━━━━━━━━\u001b[0m\u001b[37m\u001b[0m \u001b[1m21s\u001b[0m 959ms/step - accuracy: 0.7923 - loss: 0.8254 - val_accuracy: 0.4966 - val_loss: 3.0308 - learning_rate: 0.0010\n",
            "Epoch 10/20\n",
            "\u001b[1m19/19\u001b[0m \u001b[32m━━━━━━━━━━━━━━━━━━━━\u001b[0m\u001b[37m\u001b[0m \u001b[1m15s\u001b[0m 510ms/step - accuracy: 0.8168 - loss: 0.6502 - val_accuracy: 0.4490 - val_loss: 3.0835 - learning_rate: 0.0010\n",
            "Epoch 11/20\n",
            "\u001b[1m19/19\u001b[0m \u001b[32m━━━━━━━━━━━━━━━━━━━━\u001b[0m\u001b[37m\u001b[0m \u001b[1m26s\u001b[0m 1s/step - accuracy: 0.7856 - loss: 0.7695 - val_accuracy: 0.5442 - val_loss: 2.3171 - learning_rate: 0.0010\n",
            "Epoch 12/20\n",
            "\u001b[1m19/19\u001b[0m \u001b[32m━━━━━━━━━━━━━━━━━━━━\u001b[0m\u001b[37m\u001b[0m \u001b[1m15s\u001b[0m 550ms/step - accuracy: 0.7720 - loss: 0.7709 - val_accuracy: 0.4898 - val_loss: 2.5964 - learning_rate: 0.0010\n",
            "Epoch 13/20\n",
            "\u001b[1m19/19\u001b[0m \u001b[32m━━━━━━━━━━━━━━━━━━━━\u001b[0m\u001b[37m\u001b[0m \u001b[1m26s\u001b[0m 919ms/step - accuracy: 0.8096 - loss: 0.6671 - val_accuracy: 0.5782 - val_loss: 2.1971 - learning_rate: 0.0010\n",
            "Epoch 14/20\n",
            "\u001b[1m19/19\u001b[0m \u001b[32m━━━━━━━━━━━━━━━━━━━━\u001b[0m\u001b[37m\u001b[0m \u001b[1m14s\u001b[0m 511ms/step - accuracy: 0.7990 - loss: 0.6858 - val_accuracy: 0.4762 - val_loss: 2.5056 - learning_rate: 0.0010\n",
            "Epoch 15/20\n",
            "\u001b[1m19/19\u001b[0m \u001b[32m━━━━━━━━━━━━━━━━━━━━\u001b[0m\u001b[37m\u001b[0m \u001b[1m20s\u001b[0m 566ms/step - accuracy: 0.7607 - loss: 0.8658 - val_accuracy: 0.5306 - val_loss: 3.9651 - learning_rate: 0.0010\n",
            "Epoch 16/20\n",
            "\u001b[1m19/19\u001b[0m \u001b[32m━━━━━━━━━━━━━━━━━━━━\u001b[0m\u001b[37m\u001b[0m \u001b[1m15s\u001b[0m 577ms/step - accuracy: 0.7767 - loss: 0.7851 - val_accuracy: 0.5306 - val_loss: 2.7782 - learning_rate: 0.0010\n",
            "Epoch 17/20\n",
            "\u001b[1m19/19\u001b[0m \u001b[32m━━━━━━━━━━━━━━━━━━━━\u001b[0m\u001b[37m\u001b[0m \u001b[1m15s\u001b[0m 572ms/step - accuracy: 0.8791 - loss: 0.3470 - val_accuracy: 0.5646 - val_loss: 2.9438 - learning_rate: 1.0000e-04\n",
            "Epoch 18/20\n",
            "\u001b[1m19/19\u001b[0m \u001b[32m━━━━━━━━━━━━━━━━━━━━\u001b[0m\u001b[37m\u001b[0m \u001b[1m14s\u001b[0m 572ms/step - accuracy: 0.9044 - loss: 0.2844 - val_accuracy: 0.5238 - val_loss: 2.5252 - learning_rate: 1.0000e-04\n"
          ]
        },
        {
          "output_type": "execute_result",
          "data": {
            "text/plain": [
              "<keras.src.callbacks.history.History at 0x7a95e0590760>"
            ]
          },
          "metadata": {},
          "execution_count": 6
        }
      ]
    },
    {
      "cell_type": "code",
      "source": [
        "import numpy as np\n",
        "import matplotlib.pyplot as plt\n",
        "import seaborn as sns\n",
        "from sklearn.metrics import confusion_matrix\n",
        "from tensorflow.keras.models import load_model\n",
        "\n",
        "# Load the best model\n",
        "model = load_model('best_model.keras')\n",
        "\n",
        "# Get true labels and predicted labels\n",
        "true_labels = validation_generator.classes\n",
        "predictions = model.predict(validation_generator)\n",
        "\n",
        "# Convert predictions to class indices\n",
        "predicted_labels = np.argmax(predictions, axis=1)\n",
        "\n",
        "# Compute the confusion matrix\n",
        "cm = confusion_matrix(true_labels, predicted_labels)\n",
        "\n",
        "# Plot the heatmap\n",
        "plt.figure(figsize=(10, 7))\n",
        "sns.heatmap(cm, annot=True, fmt='d', cmap='Blues', xticklabels=validation_generator.class_indices.keys(), yticklabels=validation_generator.class_indices.keys())\n",
        "plt.xlabel('Predicted Labels')\n",
        "plt.ylabel('True Labels')\n",
        "plt.title('Confusion Matrix Heatmap')\n",
        "plt.show()\n"
      ],
      "metadata": {
        "id": "GARNzId0qMQC",
        "colab": {
          "base_uri": "https://localhost:8080/",
          "height": 658
        },
        "outputId": "89cc0d6f-ace2-4d19-bf65-e261a582affd"
      },
      "execution_count": null,
      "outputs": [
        {
          "output_type": "stream",
          "name": "stdout",
          "text": [
            "\u001b[1m5/5\u001b[0m \u001b[32m━━━━━━━━━━━━━━━━━━━━\u001b[0m\u001b[37m\u001b[0m \u001b[1m12s\u001b[0m 2s/step\n"
          ]
        },
        {
          "output_type": "display_data",
          "data": {
            "text/plain": [
              "<Figure size 1000x700 with 2 Axes>"
            ],
            "image/png": "[encoded data removed]"
          },
          "metadata": {}
        }
      ]
    },
    {
      "cell_type": "code",
      "source": [],
      "metadata": {
        "id": "otbjwqWl4R26"
      },
      "execution_count": null,
      "outputs": []
    }
  ]
}